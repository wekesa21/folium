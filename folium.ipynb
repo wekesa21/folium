{
 "cells": [
  {
   "cell_type": "code",
   "execution_count": 25,
   "id": "ea8c97e6-b1d7-4fc4-a577-f61059e1b5db",
   "metadata": {},
   "outputs": [
    {
     "name": "stdout",
     "output_type": "stream",
     "text": [
      "Most popular station: Market St at 10th St with 3904 rides\n",
      "Least popular station: 16th St Depot with 2 rides\n",
      "Average number of rides per station: 556.8844984802431\n"
     ]
    }
   ],
   "source": [
    "import csv\n",
    "import pandas as pd\n",
    "\n",
    "\n",
    "# Read the bike share data from the CSV file and preprocess:\n",
    "df = pd.read_csv('tripdata.csv')\n",
    "\n",
    "# Extract the start station details and count the number of rides\n",
    "start_stations = df.groupby(['start_station_id', 'start_station_name', 'start_station_latitude', 'start_station_longitude']).size().reset_index(name='num_rides')\n",
    "\n",
    "# Rename columns for consistency\n",
    "start_stations.columns = ['station_id', 'station_name', 'latitude', 'longitude', 'num_rides']\n",
    "\n",
    "\n",
    "# Analyze the bike share data:\n",
    "most_popular_station = start_stations.loc[start_stations['num_rides'].idxmax()]\n",
    "least_popular_station = start_stations.loc[start_stations['num_rides'].idxmin()]\n",
    "average_rides_per_station = start_stations['num_rides'].mean()\n",
    "\n",
    "print(\"Most popular station:\", most_popular_station['station_name'], \"with\", most_popular_station['num_rides'], \"rides\")\n",
    "print(\"Least popular station:\", least_popular_station['station_name'], \"with\", least_popular_station['num_rides'], \"rides\")\n",
    "print(\"Average number of rides per station:\", average_rides_per_station)\n",
    "\n",
    "# Create a folium map to visualize the bike share data:\n",
    "import folium\n",
    "\n",
    "map_center = [37.77, -122.42]  # San Francisco, CA\n",
    "bike_map = folium.Map(location=map_center, zoom_start=12)\n",
    "bike_map\n",
    "\n",
    "# Plot the bike share station data on the map:\n",
    "\n",
    "def get_marker_color(num_rides):\n",
    "    if num_rides < 1000:\n",
    "        return 'green'\n",
    "    elif num_rides < 5000:\n",
    "        return 'orange'\n",
    "    else:\n",
    "        return 'red'\n",
    "\n",
    "# Iterate through each row in the start_stations DataFrame\n",
    "for _, row in start_stations.iterrows():\n",
    "    \n",
    "    # Get the appropriate marker color based on the number of rides for the current station\n",
    "    marker_color = get_marker_color(row['num_rides'])\n",
    "    \n",
    "    # Create a folium Marker object with the station's latitude and longitude coordinates\n",
    "    marker = folium.Marker(\n",
    "        location=[row['latitude'], row['longitude']],  # Marker location\n",
    "        icon=folium.Icon(color=marker_color),  # Custom marker color based on the number of rides\n",
    "        # Set the popup content to display the station name and number of rides\n",
    "        popup=f\"Station: {row['station_name']}<br>Rides: {row['num_rides']}\"\n",
    "    )\n",
    "    \n",
    "    # Add the marker to the bike_map\n",
    "    marker.add_to(bike_map)\n",
    "\n",
    "\n",
    "# Save the folium map as an HTML file\n",
    "bike_map.save('bike_map.html')\n"
   ]
  },
  {
   "cell_type": "code",
   "execution_count": null,
   "id": "54400850-8964-4cfb-a6d1-eedb135b74af",
   "metadata": {},
   "outputs": [],
   "source": []
  }
 ],
 "metadata": {
  "kernelspec": {
   "display_name": "Python 3 (ipykernel)",
   "language": "python",
   "name": "python3"
  },
  "language_info": {
   "codemirror_mode": {
    "name": "ipython",
    "version": 3
   },
   "file_extension": ".py",
   "mimetype": "text/x-python",
   "name": "python",
   "nbconvert_exporter": "python",
   "pygments_lexer": "ipython3",
   "version": "3.12.4"
  }
 },
 "nbformat": 4,
 "nbformat_minor": 5
}
